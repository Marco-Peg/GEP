{
 "cells": [
  {
   "cell_type": "code",
   "execution_count": null,
   "id": "9a4373e0",
   "metadata": {},
   "outputs": [],
   "source": [
    "from argparse import Namespace\n",
    "import sys\n",
    "import numpy as np\n",
    "import os\n",
    "import json\n",
    "import torch.nn as nn\n",
    "from IGEP.evaluation.evaluate import EPMPEvaluator, EGNNEvaluator\n",
    "from IGEP.preprocessing.data_utils import epipredDataset\n",
    "sys.path.append('../')\n",
    "\n",
    "models = {\"EpiEPMP\": EPMPEvaluator, \"egnn\": EGNNEvaluator, }"
   ]
  },
  {
   "cell_type": "code",
   "execution_count": null,
   "id": "b7357bd2",
   "metadata": {},
   "outputs": [],
   "source": [
    "# Select the run\n",
    "run_dir = \"logs/GAT64/r4\"\n",
    "model_file = \"best_state_dict.pth\"\n",
    "params_file = \"params.json\"\n",
    "save_dir = \"logs/\"\n",
    "\n",
    "split = \"test\""
   ]
  },
  {
   "cell_type": "markdown",
   "id": "0ed888c1",
   "metadata": {},
   "source": [
    "# Process the Data    "
   ]
  },
  {
   "cell_type": "code",
   "execution_count": null,
   "id": "2b4856e6",
   "metadata": {
    "scrolled": true
   },
   "outputs": [],
   "source": [
    "# # This is a list of slected good runs # # \n",
    "# Make sure to up to change the constant file\n",
    "\n",
    "args = json.load(open(os.path.join(run_dir,params_file)))\n",
    "args = Namespace(**args)\n",
    "\n",
    "evaluator = models[args.model](args, args.num_cdr_feats, args.num_ag_feats)\n",
    "evaluator.load_state_dict(os.path.join(run_dir, model_file), key= \"model_state_dict\")\n",
    "model = evaluator.model"
   ]
  },
  {
   "cell_type": "code",
   "execution_count": null,
   "metadata": {
    "collapsed": false
   },
   "outputs": [],
   "source": [
    "## LOAD DATA ##\n",
    "protein_list_test = epipredDataset(args.test_path, feats=args.feats, random_rotation=False, centered=args.centered)\n",
    "pdb_names = [protein_list_test[i][\"name\"] for i in range(len(protein_list_test))]\n",
    "print(pdb_names)"
   ]
  },
  {
   "cell_type": "markdown",
   "id": "a3f591bf",
   "metadata": {},
   "source": [
    "# Analyse the test data"
   ]
  },
  {
   "cell_type": "code",
   "execution_count": null,
   "id": "bbc04dcf",
   "metadata": {},
   "outputs": [],
   "source": [
    "test_metrics, df_test, curves_vals = evaluator.test_epitope(protein_list_test)\n",
    "\n",
    "import pickle\n",
    "with open(os.path.join(run_dir,\"curves.p\"), \"wb\") as f:\n",
    "    pickle.dump(curves_vals, f, protocol=2)\n",
    "\n",
    "for i_p, mol in enumerate([\"ab\",\"ag\"]):\n",
    "    idx_sorted = np.argsort(curves_vals[mol][\"PrecRecall\"][1])\n",
    "    test_metrics[mol][\"aucpr\"] = np.trapz(curves_vals[mol][\"PrecRecall\"][0][idx_sorted], curves_vals[mol][\"PrecRecall\"][1][idx_sorted])\n",
    "\n",
    "import pandas as pd\n",
    "df_dict = dict()\n",
    "for mol in [\"ab\", \"ag\"]:\n",
    "    df_dict.update(\n",
    "        {mol + \"_\" + metric: [test_metrics[mol][metric].item()] for metric in test_metrics[mol]})\n",
    "df = pd.DataFrame(df_dict, index=[0])\n",
    "file_path = os.path.join(f\"{save_dir}final_stats_{'_'.join(run_dir.split('/')[-2:])}.csv\")\n",
    "print(\"Saving csv file to: \", file_path)\n",
    "df.to_csv(file_path, index=True, float_format='%f')\n",
    "print(df.to_string(float_format='{:.2f}'.format))"
   ]
  },
  {
   "cell_type": "code",
   "execution_count": null,
   "metadata": {
    "collapsed": false
   },
   "outputs": [],
   "source": [
    "from plotly.subplots import make_subplots\n",
    "import plotly.graph_objects as go\n",
    "\n",
    "fig = make_subplots(rows=1, cols=2, subplot_titles=[\"ab\", \"ag\"])\n",
    "for i_p, mol in enumerate([\"ab\", \"ag\"]):\n",
    "    fig.add_traces(\n",
    "        [go.Scatter(x=curves_vals[mol][\"PrecRecall\"][1], y=curves_vals[mol][\"PrecRecall\"][0], name=\"Model\",\n",
    "                    line=go.scatter.Line(color=\"blue\")), ], rows=1, cols=i_p + 1\n",
    "    )\n",
    "\n",
    "fig.update_layout(height=400, width=800, title_text=f\"Precision Recall curves \")\n",
    "fig.show()\n",
    "fig.write_image(os.path.join(run_dir,\"PRcurve.png\"))"
   ]
  },
  {
   "cell_type": "code",
   "execution_count": null,
   "metadata": {
    "collapsed": false
   },
   "outputs": [],
   "source": [
    "from plotly.subplots import make_subplots\n",
    "import plotly.graph_objects as go\n",
    "\n",
    "fig = make_subplots(rows=1, cols=2, subplot_titles=[\"ab\",\"ag\"])\n",
    "for i_p, mol in enumerate([\"ab\",\"ag\"]):\n",
    "    fig.add_traces(\n",
    "        [go.Scatter(x=curves_vals[mol][\"ROC\"][0], y=curves_vals[mol][\"ROC\"][1], name=\"Model\", line=go.scatter.Line(color=\"blue\")),\n",
    "         go.Scatter(x=[0 ,1], y=[0,1], name=\"No Skill\", line=go.scatter.Line(dash=\"dash\", color=\"red\"))], rows=1, cols=i_p+1\n",
    "    )\n",
    "\n",
    "fig.update_layout(height=400, width=800, title_text=f\"ROC curves\")\n",
    "fig.show()\n",
    "fig.write_image(os.path.join(run_dir,\"ROCcurve.png\"))"
   ]
  },
  {
   "cell_type": "code",
   "execution_count": null,
   "id": "53767321",
   "metadata": {},
   "outputs": [],
   "source": [
    "# plot molecules\n",
    "from Utils.plot_utils import plot_abag_pointclouds, plot_abag_3dgraphs\n",
    "protein_list_test.centered = False\n",
    "pdb = {\"name\": '4jr9'}\n",
    "pdb[\"idx\"] = pdb_names.index(pdb[\"name\"])\n",
    "\n",
    "sigmoid = nn.Sigmoid()\n",
    "pdb[\"pred_cdr\"], pdb[\"pred_ag\"] = evaluator.run_model(protein_list_test[pdb[\"idx\"]])\n",
    "pdb[\"pred_cdr\"] = sigmoid(pdb[\"pred_cdr\"]).cpu().detach().numpy().squeeze(-1)\n",
    "pdb[\"pred_ag\"] = sigmoid(pdb[\"pred_ag\"]).cpu().detach().numpy().squeeze(-1)\n",
    "pdb[\"pred\"] = np.concatenate((pdb[\"pred_cdr\"], pdb[\"pred_ag\"]), 0)\n",
    "\n",
    "pdb[\"coords_ag\"] = protein_list_test[pdb[\"idx\"]][\"coords_ag\"].cpu().numpy()\n",
    "pdb[\"coords_cdr\"] = protein_list_test[pdb[\"idx\"]][\"coords_cdr\"].cpu().numpy()\n",
    "pdb[\"lbls_cdr\"] = np.array(protein_list_test[pdb[\"idx\"]][\"cdr_lbls\"].cpu())\n",
    "pdb[\"lbls_ag\"] = np.array(protein_list_test[pdb[\"idx\"]][\"ag_lbls\"].cpu())\n",
    "pdb[\"lbls\"] = np.concatenate((pdb[\"lbls_cdr\"], pdb[\"lbls_ag\"],), 0)\n",
    "pdb['edge_cdr'] = np.array(protein_list_test[pdb[\"idx\"]][\"edge_index_cdr\"].cpu())\n",
    "pdb['edge_cdr'] = np.unique(pdb['edge_cdr'][:,::2], axis=1)\n",
    "pdb['edge_ag'] = np.array(protein_list_test[pdb[\"idx\"]][\"edge_index_ag\"].cpu())\n",
    "pdb['edge_ag'] = np.unique(pdb['edge_ag'][:,::2], axis=1)"
   ]
  },
  {
   "cell_type": "markdown",
   "id": "62ac3903",
   "metadata": {},
   "source": [
    "### CDR + AG"
   ]
  },
  {
   "cell_type": "code",
   "execution_count": null,
   "metadata": {
    "collapsed": false
   },
   "outputs": [],
   "source": [
    "# graph\n",
    "coords = [{\"ab\": pdb[\"coords_cdr\"], \"ag\": pdb[\"coords_ag\"]} for i in range(3)]\n",
    "edges = [{\"ab\": pdb[\"edge_cdr\"], \"ag\": pdb[\"edge_ag\"]} for i in range(3)]\n",
    "colors = [{\"ab\": pdb[\"lbls_cdr\"], \"ag\": pdb[\"lbls_ag\"]}, {\"ab\": pdb[\"pred_cdr\"], \"ag\": pdb[\"pred_ag\"]},\n",
    "          {\"ab\": np.greater(pdb[\"pred_cdr\"], 0.5).astype(float), \"ag\": np.greater(pdb[\"pred_ag\"], 0.5).astype(float)}, ]\n",
    "fig = plot_abag_3dgraphs(coords, edges, colors, (\"ground thruth\", \"Prediction\", \"Discrete Prediction\"),\n",
    "                         size=5, show=False)\n",
    "fig.update_layout(title_text=f\"ABAG\", title_font_family=\"Times New Roman\",\n",
    "                  font_family=\"Times New Roman\", plot_bgcolor='white')\n",
    "fig"
   ]
  },
  {
   "cell_type": "code",
   "execution_count": null,
   "metadata": {
    "collapsed": false,
    "pycharm": {
     "is_executing": true
    }
   },
   "outputs": [],
   "source": [
    "# point clouds\n",
    "fig = plot_abag_pointclouds(coords, colors , (\"ground thruth\", \"Prediction\", \"Discrete Prediction\"),  size=5, show=False)\n",
    "fig.update_layout(title_text=f\"ABAG\", title_font_family=\"Times New Roman\",\n",
    "                  font_family=\"Times New Roman\", plot_bgcolor='white')\n",
    "fig"
   ]
  },
  {
   "cell_type": "markdown",
   "id": "f6ac539c",
   "metadata": {},
   "source": [
    "### CDR"
   ]
  },
  {
   "cell_type": "code",
   "execution_count": null,
   "metadata": {
    "collapsed": false
   },
   "outputs": [],
   "source": [
    "# graph\n",
    "coords = [{\"ab\": pdb[\"coords_cdr\"]} for i in range(3)]\n",
    "edges = [{\"ab\": pdb[\"edge_cdr\"],} for i in range(3)]\n",
    "colors = [{\"ab\": pdb[\"lbls_cdr\"],}, {\"ab\": pdb[\"pred_cdr\"],},\n",
    "          {\"ab\": np.greater(pdb[\"pred_cdr\"], 0.5).astype(float),}, ]\n",
    "fig = plot_abag_3dgraphs(coords, edges, colors , (\"ground thruth\", \"Prediction\", \"Discrete Prediction\"),\n",
    "                         size=5, show=False)\n",
    "fig.update_layout(title_text=f\"AB\", title_font_family=\"Times New Roman\",\n",
    "                  font_family=\"Times New Roman\", plot_bgcolor='white')"
   ]
  },
  {
   "cell_type": "code",
   "execution_count": null,
   "metadata": {
    "collapsed": false,
    "pycharm": {
     "is_executing": true
    }
   },
   "outputs": [],
   "source": [
    "# point clouds\n",
    "fig = plot_abag_pointclouds(coords, colors , (\"ground thruth\", \"Prediction\", \"Discrete Prediction\"),\n",
    "                            size=5, show=False)\n",
    "fig.update_layout(title_text=f\"AB\", title_font_family=\"Times New Roman\",\n",
    "                  font_family=\"Times New Roman\", plot_bgcolor='white')"
   ]
  },
  {
   "cell_type": "markdown",
   "id": "b92a4a96",
   "metadata": {},
   "source": [
    "### AG"
   ]
  },
  {
   "cell_type": "code",
   "execution_count": null,
   "metadata": {
    "collapsed": false
   },
   "outputs": [],
   "source": [
    "# graph\n",
    "coords = [{\"ag\": pdb[\"coords_ag\"]} for i in range(3)]\n",
    "edges = [{\"ag\": pdb[\"edge_ag\"]} for i in range(3)]\n",
    "colors = [{\"ag\": pdb[\"lbls_ag\"]}, {\"ag\": pdb[\"pred_ag\"]},\n",
    "          {\"ag\": np.greater(pdb[\"pred_ag\"], 0.5).astype(float)}, ]\n",
    "fig = plot_abag_3dgraphs(coords, edges, colors , (\"ground thruth\", \"Prediction\", \"Discrete Prediction\"),\n",
    "                         size=5, show=False)\n",
    "fig.update_layout(title_text=f\"AG\", title_font_family=\"Times New Roman\",\n",
    "                  font_family=\"Times New Roman\", plot_bgcolor='white')"
   ]
  },
  {
   "cell_type": "code",
   "execution_count": null,
   "metadata": {
    "collapsed": false,
    "pycharm": {
     "is_executing": true
    }
   },
   "outputs": [],
   "source": [
    "# point clouds\n",
    "fig = plot_abag_pointclouds(coords, colors , (\"ground thruth\", \"Prediction\", \"Discrete Prediction\"),\n",
    "                            size=5, show=False)\n",
    "fig.update_layout(title_text=f\"AG\", title_font_family=\"Times New Roman\",\n",
    "                  font_family=\"Times New Roman\", plot_bgcolor='white')"
   ]
  }
 ],
 "metadata": {
  "kernelspec": {
   "display_name": "Python 3 (ipykernel)",
   "language": "python",
   "name": "python3"
  },
  "language_info": {
   "codemirror_mode": {
    "name": "ipython",
    "version": 3
   },
   "file_extension": ".py",
   "mimetype": "text/x-python",
   "name": "python",
   "nbconvert_exporter": "python",
   "pygments_lexer": "ipython3",
   "version": "3.8.16"
  }
 },
 "nbformat": 4,
 "nbformat_minor": 5
}
